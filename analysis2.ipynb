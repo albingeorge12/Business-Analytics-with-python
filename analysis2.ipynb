{
 "cells": [
  {
   "cell_type": "code",
   "execution_count": 1,
   "id": "a2612218-fdb7-47cd-98da-5090870b538c",
   "metadata": {},
   "outputs": [],
   "source": [
    "import numpy as op"
   ]
  },
  {
   "cell_type": "code",
   "execution_count": 3,
   "id": "0e839961-90d6-4b34-8158-6f4cd95ef415",
   "metadata": {},
   "outputs": [],
   "source": [
    "import pandas as pd"
   ]
  },
  {
   "cell_type": "code",
   "execution_count": 5,
   "id": "f718403d-c676-4850-befc-48f2d1830cf2",
   "metadata": {},
   "outputs": [],
   "source": [
    "df=pd.read_csv(\"RELIANCE.NS.csv\")"
   ]
  },
  {
   "cell_type": "code",
   "execution_count": 6,
   "id": "ebfa07cf-83cf-4800-8b53-3f9c150baf20",
   "metadata": {},
   "outputs": [
    {
     "data": {
      "text/html": [
       "<div>\n",
       "<style scoped>\n",
       "    .dataframe tbody tr th:only-of-type {\n",
       "        vertical-align: middle;\n",
       "    }\n",
       "\n",
       "    .dataframe tbody tr th {\n",
       "        vertical-align: top;\n",
       "    }\n",
       "\n",
       "    .dataframe thead th {\n",
       "        text-align: right;\n",
       "    }\n",
       "</style>\n",
       "<table border=\"1\" class=\"dataframe\">\n",
       "  <thead>\n",
       "    <tr style=\"text-align: right;\">\n",
       "      <th></th>\n",
       "      <th>Date</th>\n",
       "      <th>Open</th>\n",
       "      <th>High</th>\n",
       "      <th>Low</th>\n",
       "      <th>Close</th>\n",
       "      <th>Adj Close</th>\n",
       "      <th>Volume</th>\n",
       "    </tr>\n",
       "  </thead>\n",
       "  <tbody>\n",
       "    <tr>\n",
       "      <th>0</th>\n",
       "      <td>01-02-2021</td>\n",
       "      <td>1859.400024</td>\n",
       "      <td>2152.000000</td>\n",
       "      <td>1848.000000</td>\n",
       "      <td>2085.800049</td>\n",
       "      <td>2079.111816</td>\n",
       "      <td>241126674</td>\n",
       "    </tr>\n",
       "    <tr>\n",
       "      <th>1</th>\n",
       "      <td>01-03-2021</td>\n",
       "      <td>2110.199951</td>\n",
       "      <td>2231.899902</td>\n",
       "      <td>1973.699951</td>\n",
       "      <td>2003.099976</td>\n",
       "      <td>1996.676758</td>\n",
       "      <td>194133090</td>\n",
       "    </tr>\n",
       "    <tr>\n",
       "      <th>2</th>\n",
       "      <td>01-04-2021</td>\n",
       "      <td>2018.000000</td>\n",
       "      <td>2046.900024</td>\n",
       "      <td>1876.699951</td>\n",
       "      <td>1994.500000</td>\n",
       "      <td>1988.104370</td>\n",
       "      <td>150993414</td>\n",
       "    </tr>\n",
       "    <tr>\n",
       "      <th>3</th>\n",
       "      <td>01-05-2021</td>\n",
       "      <td>1966.000000</td>\n",
       "      <td>2191.699951</td>\n",
       "      <td>1906.000000</td>\n",
       "      <td>2160.300049</td>\n",
       "      <td>2153.372803</td>\n",
       "      <td>172773768</td>\n",
       "    </tr>\n",
       "    <tr>\n",
       "      <th>4</th>\n",
       "      <td>01-06-2021</td>\n",
       "      <td>2166.000000</td>\n",
       "      <td>2274.899902</td>\n",
       "      <td>2081.000000</td>\n",
       "      <td>2110.649902</td>\n",
       "      <td>2103.881836</td>\n",
       "      <td>232391973</td>\n",
       "    </tr>\n",
       "    <tr>\n",
       "      <th>5</th>\n",
       "      <td>01-07-2021</td>\n",
       "      <td>2118.000000</td>\n",
       "      <td>2153.550049</td>\n",
       "      <td>2016.250000</td>\n",
       "      <td>2035.300049</td>\n",
       "      <td>2035.300049</td>\n",
       "      <td>99414777</td>\n",
       "    </tr>\n",
       "    <tr>\n",
       "      <th>6</th>\n",
       "      <td>01-08-2021</td>\n",
       "      <td>2054.300049</td>\n",
       "      <td>2283.750000</td>\n",
       "      <td>2041.150024</td>\n",
       "      <td>2258.149902</td>\n",
       "      <td>2258.149902</td>\n",
       "      <td>130179899</td>\n",
       "    </tr>\n",
       "    <tr>\n",
       "      <th>7</th>\n",
       "      <td>01-09-2021</td>\n",
       "      <td>2273.000000</td>\n",
       "      <td>2570.000000</td>\n",
       "      <td>2255.000000</td>\n",
       "      <td>2519.250000</td>\n",
       "      <td>2519.250000</td>\n",
       "      <td>151831805</td>\n",
       "    </tr>\n",
       "    <tr>\n",
       "      <th>8</th>\n",
       "      <td>01-10-2021</td>\n",
       "      <td>2501.949951</td>\n",
       "      <td>2751.350098</td>\n",
       "      <td>2495.000000</td>\n",
       "      <td>2536.250000</td>\n",
       "      <td>2536.250000</td>\n",
       "      <td>107887018</td>\n",
       "    </tr>\n",
       "    <tr>\n",
       "      <th>9</th>\n",
       "      <td>01-11-2021</td>\n",
       "      <td>2536.250000</td>\n",
       "      <td>2602.199951</td>\n",
       "      <td>2309.000000</td>\n",
       "      <td>2405.399902</td>\n",
       "      <td>2405.399902</td>\n",
       "      <td>148250427</td>\n",
       "    </tr>\n",
       "    <tr>\n",
       "      <th>10</th>\n",
       "      <td>01-12-2021</td>\n",
       "      <td>2433.000000</td>\n",
       "      <td>2498.500000</td>\n",
       "      <td>2247.100098</td>\n",
       "      <td>2368.149902</td>\n",
       "      <td>2368.149902</td>\n",
       "      <td>132180849</td>\n",
       "    </tr>\n",
       "    <tr>\n",
       "      <th>11</th>\n",
       "      <td>01-01-2022</td>\n",
       "      <td>2365.000000</td>\n",
       "      <td>2477.000000</td>\n",
       "      <td>2363.550049</td>\n",
       "      <td>2469.600098</td>\n",
       "      <td>2469.600098</td>\n",
       "      <td>12881916</td>\n",
       "    </tr>\n",
       "    <tr>\n",
       "      <th>12</th>\n",
       "      <td>06-01-2022</td>\n",
       "      <td>2451.199951</td>\n",
       "      <td>2454.000000</td>\n",
       "      <td>2409.000000</td>\n",
       "      <td>2424.649902</td>\n",
       "      <td>2424.649902</td>\n",
       "      <td>4687172</td>\n",
       "    </tr>\n",
       "  </tbody>\n",
       "</table>\n",
       "</div>"
      ],
      "text/plain": [
       "          Date         Open         High          Low        Close  \\\n",
       "0   01-02-2021  1859.400024  2152.000000  1848.000000  2085.800049   \n",
       "1   01-03-2021  2110.199951  2231.899902  1973.699951  2003.099976   \n",
       "2   01-04-2021  2018.000000  2046.900024  1876.699951  1994.500000   \n",
       "3   01-05-2021  1966.000000  2191.699951  1906.000000  2160.300049   \n",
       "4   01-06-2021  2166.000000  2274.899902  2081.000000  2110.649902   \n",
       "5   01-07-2021  2118.000000  2153.550049  2016.250000  2035.300049   \n",
       "6   01-08-2021  2054.300049  2283.750000  2041.150024  2258.149902   \n",
       "7   01-09-2021  2273.000000  2570.000000  2255.000000  2519.250000   \n",
       "8   01-10-2021  2501.949951  2751.350098  2495.000000  2536.250000   \n",
       "9   01-11-2021  2536.250000  2602.199951  2309.000000  2405.399902   \n",
       "10  01-12-2021  2433.000000  2498.500000  2247.100098  2368.149902   \n",
       "11  01-01-2022  2365.000000  2477.000000  2363.550049  2469.600098   \n",
       "12  06-01-2022  2451.199951  2454.000000  2409.000000  2424.649902   \n",
       "\n",
       "      Adj Close     Volume  \n",
       "0   2079.111816  241126674  \n",
       "1   1996.676758  194133090  \n",
       "2   1988.104370  150993414  \n",
       "3   2153.372803  172773768  \n",
       "4   2103.881836  232391973  \n",
       "5   2035.300049   99414777  \n",
       "6   2258.149902  130179899  \n",
       "7   2519.250000  151831805  \n",
       "8   2536.250000  107887018  \n",
       "9   2405.399902  148250427  \n",
       "10  2368.149902  132180849  \n",
       "11  2469.600098   12881916  \n",
       "12  2424.649902    4687172  "
      ]
     },
     "execution_count": 6,
     "metadata": {},
     "output_type": "execute_result"
    }
   ],
   "source": [
    "df"
   ]
  },
  {
   "cell_type": "code",
   "execution_count": 8,
   "id": "b56183ea-e225-4ff1-8c7f-60dae3917d98",
   "metadata": {},
   "outputs": [],
   "source": [
    "x=op.array([1,2,3,4,5,6,7,8,9,10,11,12,13])"
   ]
  },
  {
   "cell_type": "code",
   "execution_count": 11,
   "id": "7c0e15d0-f3b8-42b1-9780-51edd9d80750",
   "metadata": {},
   "outputs": [],
   "source": [
    "y=op.array([1859.400024,2110.199951,2018,1966,2166,2118,2054.300049,2273,2501.949951,2536.25,2433,2365,2451.199951\n",
    "])"
   ]
  },
  {
   "cell_type": "code",
   "execution_count": 12,
   "id": "bdc24ff4-d801-478c-9289-629a17026a2a",
   "metadata": {},
   "outputs": [
    {
     "data": {
      "text/plain": [
       "array([ 1,  2,  3,  4,  5,  6,  7,  8,  9, 10, 11, 12, 13])"
      ]
     },
     "execution_count": 12,
     "metadata": {},
     "output_type": "execute_result"
    }
   ],
   "source": [
    "x"
   ]
  },
  {
   "cell_type": "code",
   "execution_count": 13,
   "id": "4532a665-508d-487a-81c1-866f8632702d",
   "metadata": {},
   "outputs": [
    {
     "data": {
      "text/plain": [
       "array([1859.400024, 2110.199951, 2018.      , 1966.      , 2166.      ,\n",
       "       2118.      , 2054.300049, 2273.      , 2501.949951, 2536.25    ,\n",
       "       2433.      , 2365.      , 2451.199951])"
      ]
     },
     "execution_count": 13,
     "metadata": {},
     "output_type": "execute_result"
    }
   ],
   "source": [
    "y"
   ]
  },
  {
   "cell_type": "code",
   "execution_count": 14,
   "id": "37488b4a-a654-4f51-8fa9-dc54ed6b4702",
   "metadata": {},
   "outputs": [],
   "source": [
    "xd=op.mean(x)"
   ]
  },
  {
   "cell_type": "code",
   "execution_count": 15,
   "id": "2a63b771-079a-450e-a934-f02c9063985a",
   "metadata": {},
   "outputs": [],
   "source": [
    "yd=op.mean(y)"
   ]
  },
  {
   "cell_type": "code",
   "execution_count": 16,
   "id": "f8ef29c6-4cd4-4e36-93f7-9f99a6f3d811",
   "metadata": {},
   "outputs": [
    {
     "data": {
      "text/plain": [
       "7.0"
      ]
     },
     "execution_count": 16,
     "metadata": {},
     "output_type": "execute_result"
    }
   ],
   "source": [
    "xd"
   ]
  },
  {
   "cell_type": "code",
   "execution_count": 17,
   "id": "357dd925-1490-4780-9ab7-db168e96fda9",
   "metadata": {},
   "outputs": [
    {
     "data": {
      "text/plain": [
       "2219.407686615384"
      ]
     },
     "execution_count": 17,
     "metadata": {},
     "output_type": "execute_result"
    }
   ],
   "source": [
    "yd"
   ]
  },
  {
   "cell_type": "code",
   "execution_count": 60,
   "id": "c968bdb3-5590-4fb5-9c66-c3b3d7da481f",
   "metadata": {},
   "outputs": [],
   "source": [
    "product=(w)*(q)"
   ]
  },
  {
   "cell_type": "code",
   "execution_count": 58,
   "id": "be5f817f-014b-4547-bc7d-817bb1dbeac9",
   "metadata": {},
   "outputs": [
    {
     "data": {
      "text/plain": [
       "array([-6., -5., -4., -3., -2., -1.,  0.,  1.,  2.,  3.,  4.,  5.,  6.])"
      ]
     },
     "execution_count": 58,
     "metadata": {},
     "output_type": "execute_result"
    }
   ],
   "source": [
    "w=(y-yd)\n",
    "w\n",
    "q=(x-xd)\n",
    "q"
   ]
  },
  {
   "cell_type": "code",
   "execution_count": 59,
   "id": "1b7942bf-9180-4f86-889d-9a2abfd387d3",
   "metadata": {},
   "outputs": [
    {
     "data": {
      "text/plain": [
       "array([-360.00766262, -109.20773562, -201.40768662, -253.40768662,\n",
       "        -53.40768662, -101.40768662, -165.10763762,   53.59231338,\n",
       "        282.54226438,  316.84231338,  213.59231338,  145.59231338,\n",
       "        231.79226438])"
      ]
     },
     "execution_count": 59,
     "metadata": {},
     "output_type": "execute_result"
    }
   ],
   "source": [
    "w"
   ]
  },
  {
   "cell_type": "code",
   "execution_count": 61,
   "id": "2799e9c2-4058-4d1d-8484-126853f858e8",
   "metadata": {},
   "outputs": [
    {
     "data": {
      "text/plain": [
       "array([2160.04597569,  546.03867808,  805.63074646,  760.22305985,\n",
       "        106.81537323,  101.40768662,   -0.        ,   53.59231338,\n",
       "        565.08452877,  950.52694015,  854.36925354,  727.96156692,\n",
       "       1390.75358631])"
      ]
     },
     "execution_count": 61,
     "metadata": {},
     "output_type": "execute_result"
    }
   ],
   "source": [
    "product"
   ]
  },
  {
   "cell_type": "code",
   "execution_count": 62,
   "id": "f42deaed-df9b-4d64-b989-dcc6102035e6",
   "metadata": {},
   "outputs": [],
   "source": [
    "num=sum(product)"
   ]
  },
  {
   "cell_type": "code",
   "execution_count": 63,
   "id": "a5de78a2-47eb-4fe3-a5f9-14ee4639a53f",
   "metadata": {},
   "outputs": [
    {
     "data": {
      "text/plain": [
       "9022.449708999999"
      ]
     },
     "execution_count": 63,
     "metadata": {},
     "output_type": "execute_result"
    }
   ],
   "source": [
    "num"
   ]
  },
  {
   "cell_type": "code",
   "execution_count": 64,
   "id": "fddd6155-f1a5-4430-a235-2968e042a91f",
   "metadata": {},
   "outputs": [],
   "source": [
    "sq=q*q"
   ]
  },
  {
   "cell_type": "code",
   "execution_count": 65,
   "id": "67af0980-90e1-4f56-a1fa-525c0a508da7",
   "metadata": {},
   "outputs": [
    {
     "data": {
      "text/plain": [
       "array([36., 25., 16.,  9.,  4.,  1.,  0.,  1.,  4.,  9., 16., 25., 36.])"
      ]
     },
     "execution_count": 65,
     "metadata": {},
     "output_type": "execute_result"
    }
   ],
   "source": [
    "sq"
   ]
  },
  {
   "cell_type": "code",
   "execution_count": 66,
   "id": "b81a7540-e123-48f5-8956-c70f9c16e7f9",
   "metadata": {},
   "outputs": [],
   "source": [
    "denm=sum(sq)"
   ]
  },
  {
   "cell_type": "code",
   "execution_count": 67,
   "id": "c1b5c66d-218c-48ff-9453-190a4f391f68",
   "metadata": {},
   "outputs": [
    {
     "data": {
      "text/plain": [
       "182.0"
      ]
     },
     "execution_count": 67,
     "metadata": {},
     "output_type": "execute_result"
    }
   ],
   "source": [
    "denm"
   ]
  },
  {
   "cell_type": "code",
   "execution_count": 68,
   "id": "19f215de-853a-4c9c-9b6a-53c491ef4541",
   "metadata": {},
   "outputs": [],
   "source": [
    "m=num/denm"
   ]
  },
  {
   "cell_type": "code",
   "execution_count": 69,
   "id": "d2aa2a02-bc1f-4288-b6d1-5ab9a8359a57",
   "metadata": {},
   "outputs": [
    {
     "data": {
      "text/plain": [
       "49.57389949999999"
      ]
     },
     "execution_count": 69,
     "metadata": {},
     "output_type": "execute_result"
    }
   ],
   "source": [
    "m"
   ]
  },
  {
   "cell_type": "code",
   "execution_count": 78,
   "id": "ec9d0a7b-f711-4940-8902-108216008dce",
   "metadata": {},
   "outputs": [],
   "source": [
    "j=m*xd"
   ]
  },
  {
   "cell_type": "code",
   "execution_count": 80,
   "id": "46b71553-7cc0-48e1-94e2-cc019e75cce6",
   "metadata": {},
   "outputs": [],
   "source": [
    "C=yd-(j)"
   ]
  },
  {
   "cell_type": "code",
   "execution_count": 81,
   "id": "4db63f95-b1a6-45dc-a4c9-b4db480afafa",
   "metadata": {},
   "outputs": [
    {
     "data": {
      "text/plain": [
       "1872.3903901153842"
      ]
     },
     "execution_count": 81,
     "metadata": {},
     "output_type": "execute_result"
    }
   ],
   "source": [
    "C"
   ]
  },
  {
   "cell_type": "code",
   "execution_count": 86,
   "id": "bf7527ac-4deb-4f56-b731-e7b505c56d52",
   "metadata": {},
   "outputs": [],
   "source": [
    "YNEW=(m*x)+C"
   ]
  },
  {
   "cell_type": "code",
   "execution_count": 87,
   "id": "995b170a-f533-4ad5-813f-ac144ccf76e7",
   "metadata": {},
   "outputs": [
    {
     "data": {
      "text/plain": [
       "array([1921.96428962, 1971.53818912, 2021.11208862, 2070.68598812,\n",
       "       2120.25988762, 2169.83378712, 2219.40768662, 2268.98158612,\n",
       "       2318.55548562, 2368.12938512, 2417.70328462, 2467.27718412,\n",
       "       2516.85108362])"
      ]
     },
     "execution_count": 87,
     "metadata": {},
     "output_type": "execute_result"
    }
   ],
   "source": [
    "YNEW"
   ]
  },
  {
   "cell_type": "code",
   "execution_count": 88,
   "id": "d935bcc8-c518-4771-a9df-c552b6f04e8e",
   "metadata": {},
   "outputs": [],
   "source": [
    "import matplotlib.pyplot as point"
   ]
  },
  {
   "cell_type": "code",
   "execution_count": 91,
   "id": "cdea93d7-3401-4b3f-bcd7-c7a003d2a0de",
   "metadata": {},
   "outputs": [
    {
     "data": {
      "text/plain": [
       "[<matplotlib.lines.Line2D at 0x2a1f46a2520>]"
      ]
     },
     "execution_count": 91,
     "metadata": {},
     "output_type": "execute_result"
    },
    {
     "data": {
      "image/png": "[encoded data removed]",
      "text/plain": [
       "<Figure size 432x288 with 1 Axes>"
      ]
     },
     "metadata": {
      "needs_background": "light"
     },
     "output_type": "display_data"
    }
   ],
   "source": [
    "point.scatter(x,y)\n",
    "point.plot(x,YNEW)"
   ]
  },
  {
   "cell_type": "code",
   "execution_count": 90,
   "id": "a3ab6588-e339-499b-9f3d-c99c595e22e8",
   "metadata": {},
   "outputs": [
    {
     "data": {
      "text/plain": [
       "[<matplotlib.lines.Line2D at 0x2a1f4648460>]"
      ]
     },
     "execution_count": 90,
     "metadata": {},
     "output_type": "execute_result"
    },
    {
     "data": {
      "image/png": "[encoded data removed]",
      "text/plain": [
       "<Figure size 432x288 with 1 Axes>"
      ]
     },
     "metadata": {
      "needs_background": "light"
     },
     "output_type": "display_data"
    }
   ],
   "source": [
    "point.plot(x,YNEW)"
   ]
  },
  {
   "cell_type": "code",
   "execution_count": null,
   "id": "bd9d9de1-3083-42b9-bf0d-9f7227e3c0e6",
   "metadata": {},
   "outputs": [],
   "source": []
  }
 ],
 "metadata": {
  "kernelspec": {
   "display_name": "Python 3",
   "language": "python",
   "name": "python3"
  },
  "language_info": {
   "codemirror_mode": {
    "name": "ipython",
    "version": 3
   },
   "file_extension": ".py",
   "mimetype": "text/x-python",
   "name": "python",
   "nbconvert_exporter": "python",
   "pygments_lexer": "ipython3",
   "version": "3.8.8"
  }
 },
 "nbformat": 4,
 "nbformat_minor": 5
}
