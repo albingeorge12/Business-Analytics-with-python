{
 "cells": [
  {
   "cell_type": "code",
   "execution_count": 2,
   "id": "cdc6d3e6-7831-4287-b716-3fe8abc35caf",
   "metadata": {},
   "outputs": [
    {
     "name": "stdin",
     "output_type": "stream",
     "text": [
      "eneter your income in (lakhs) 12\n"
     ]
    },
    {
     "name": "stdout",
     "output_type": "stream",
     "text": [
      "special Tax rates\n"
     ]
    }
   ],
   "source": [
    "Income=int(input(\"eneter your income in (lakhs)\"))\n",
    "if ((Income>=2) and (Income <=5)):\n",
    "    print(\"Base Tax\")\n",
    "else:\n",
    "    print(\"special Tax rates\")"
   ]
  },
  {
   "cell_type": "code",
   "execution_count": 3,
   "id": "6d27086b-d1d1-44b8-b728-f4535198580d",
   "metadata": {},
   "outputs": [
    {
     "name": "stdin",
     "output_type": "stream",
     "text": [
      "eneter your income in (lakhs) 123\n"
     ]
    },
    {
     "name": "stdout",
     "output_type": "stream",
     "text": [
      "Base Tax is 5%\n"
     ]
    }
   ],
   "source": [
    "Income=int(input(\"eneter your income in (lakhs)\"))\n",
    "if ((Income>=2) or (Income <=5)):\n",
    "    print(\"Base Tax is 5%\")\n",
    "else:\n",
    "    print(\" Tax rates is 10 %\")"
   ]
  },
  {
   "cell_type": "code",
   "execution_count": 14,
   "id": "e66f5bf2-8740-4319-9665-3952d3e58e27",
   "metadata": {},
   "outputs": [
    {
     "name": "stdin",
     "output_type": "stream",
     "text": [
      "enter the base price 12\n",
      "enter the slab  2\n",
      "enter the road develepoment cess 354\n",
      "enter the raod tax 125\n",
      "enter the eceonomic sess 25\n",
      "enter the  VAT 35\n"
     ]
    },
    {
     "name": "stdout",
     "output_type": "stream",
     "text": [
      "6360.599999999999\n"
     ]
    }
   ],
   "source": [
    "x=int(input(\"enter the base price\"))\n",
    "y=int(input(\"enter the slab \"))\n",
    "if  y==1:\n",
    "    GST=O\n",
    "if  y==2:\n",
    "    GST=0.05\n",
    "if  y==3:\n",
    "    GST=0.012\n",
    "if  y==4:\n",
    "    GST=0.018\n",
    "if  y==5:\n",
    "    GST=0.028  \n",
    "z=int(input(\"enter the road develepoment cess\"))\n",
    "f=int(input(\"enter the raod tax\"))\n",
    "g=int(input(\"enter the eceonomic sess\"))\n",
    "h=int(input(\"enter the  VAT\"))\n",
    "PRICE=x+(GST+z+f+g+g)*x\n",
    "print (PRICE)"
   ]
  },
  {
   "cell_type": "code",
   "execution_count": null,
   "id": "cec18ee6-4990-4d03-8e1a-63c73b0ca046",
   "metadata": {},
   "outputs": [],
   "source": []
  },
  {
   "cell_type": "code",
   "execution_count": null,
   "id": "524eceae-79bf-43fb-b4b2-fed6584c9c37",
   "metadata": {},
   "outputs": [],
   "source": []
  },
  {
   "cell_type": "code",
   "execution_count": null,
   "id": "f26f2990-ae62-4976-a159-663a02090636",
   "metadata": {},
   "outputs": [],
   "source": []
  },
  {
   "cell_type": "code",
   "execution_count": null,
   "id": "19a975f0-9e25-4d3f-a935-3dea95517748",
   "metadata": {},
   "outputs": [],
   "source": []
  }
 ],
 "metadata": {
  "kernelspec": {
   "display_name": "Python 3",
   "language": "python",
   "name": "python3"
  },
  "language_info": {
   "codemirror_mode": {
    "name": "ipython",
    "version": 3
   },
   "file_extension": ".py",
   "mimetype": "text/x-python",
   "name": "python",
   "nbconvert_exporter": "python",
   "pygments_lexer": "ipython3",
   "version": "3.8.8"
  }
 },
 "nbformat": 4,
 "nbformat_minor": 5
}
