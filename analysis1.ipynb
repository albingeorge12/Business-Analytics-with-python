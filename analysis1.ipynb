{
 "cells": [
  {
   "cell_type": "code",
   "execution_count": 2,
   "id": "4876b9e4-3b64-4ada-9f54-e7d00d5bd727",
   "metadata": {},
   "outputs": [],
   "source": [
    "import pandas as work"
   ]
  },
  {
   "cell_type": "code",
   "execution_count": 3,
   "id": "c2ff8719-7c2e-4167-adba-0cf4c870760d",
   "metadata": {},
   "outputs": [],
   "source": [
    "data=work.read_csv(\"Supermarket_sales.csv\")"
   ]
  },
  {
   "cell_type": "code",
   "execution_count": 4,
   "id": "e17f2720-15e7-4672-a771-55081032515b",
   "metadata": {},
   "outputs": [
    {
     "data": {
      "text/html": [
       "<div>\n",
       "<style scoped>\n",
       "    .dataframe tbody tr th:only-of-type {\n",
       "        vertical-align: middle;\n",
       "    }\n",
       "\n",
       "    .dataframe tbody tr th {\n",
       "        vertical-align: top;\n",
       "    }\n",
       "\n",
       "    .dataframe thead th {\n",
       "        text-align: right;\n",
       "    }\n",
       "</style>\n",
       "<table border=\"1\" class=\"dataframe\">\n",
       "  <thead>\n",
       "    <tr style=\"text-align: right;\">\n",
       "      <th></th>\n",
       "      <th>No</th>\n",
       "      <th>InvoiceID</th>\n",
       "      <th>Branch</th>\n",
       "      <th>City</th>\n",
       "      <th>Customertype</th>\n",
       "      <th>Gender</th>\n",
       "      <th>Productline</th>\n",
       "      <th>Unitprice</th>\n",
       "      <th>Quantity</th>\n",
       "      <th>Tax</th>\n",
       "      <th>Total</th>\n",
       "      <th>Date</th>\n",
       "      <th>Time</th>\n",
       "      <th>Payment</th>\n",
       "      <th>cogs</th>\n",
       "      <th>gross_margin_percentage</th>\n",
       "      <th>gross_iincome</th>\n",
       "      <th>Rating</th>\n",
       "    </tr>\n",
       "  </thead>\n",
       "  <tbody>\n",
       "    <tr>\n",
       "      <th>0</th>\n",
       "      <td>1</td>\n",
       "      <td>750-67-8428</td>\n",
       "      <td>A</td>\n",
       "      <td>Yangon</td>\n",
       "      <td>Member</td>\n",
       "      <td>Female</td>\n",
       "      <td>Health and beauty</td>\n",
       "      <td>74.69</td>\n",
       "      <td>7</td>\n",
       "      <td>26.1415</td>\n",
       "      <td>548.9715</td>\n",
       "      <td>1/5/2019</td>\n",
       "      <td>13:08</td>\n",
       "      <td>Ewallet</td>\n",
       "      <td>522.83</td>\n",
       "      <td>4.761905</td>\n",
       "      <td>26.1415</td>\n",
       "      <td>9.1</td>\n",
       "    </tr>\n",
       "    <tr>\n",
       "      <th>1</th>\n",
       "      <td>2</td>\n",
       "      <td>226-31-3081</td>\n",
       "      <td>C</td>\n",
       "      <td>Naypyitaw</td>\n",
       "      <td>Normal</td>\n",
       "      <td>Female</td>\n",
       "      <td>Electronic accessories</td>\n",
       "      <td>15.28</td>\n",
       "      <td>5</td>\n",
       "      <td>3.8200</td>\n",
       "      <td>80.2200</td>\n",
       "      <td>3/8/2019</td>\n",
       "      <td>10:29</td>\n",
       "      <td>Cash</td>\n",
       "      <td>76.40</td>\n",
       "      <td>4.761905</td>\n",
       "      <td>3.8200</td>\n",
       "      <td>9.6</td>\n",
       "    </tr>\n",
       "    <tr>\n",
       "      <th>2</th>\n",
       "      <td>3</td>\n",
       "      <td>631-41-3108</td>\n",
       "      <td>A</td>\n",
       "      <td>Yangon</td>\n",
       "      <td>Normal</td>\n",
       "      <td>Male</td>\n",
       "      <td>Home and lifestyle</td>\n",
       "      <td>46.33</td>\n",
       "      <td>7</td>\n",
       "      <td>16.2155</td>\n",
       "      <td>340.5255</td>\n",
       "      <td>3/3/2019</td>\n",
       "      <td>13:23</td>\n",
       "      <td>Credit card</td>\n",
       "      <td>324.31</td>\n",
       "      <td>4.761905</td>\n",
       "      <td>16.2155</td>\n",
       "      <td>7.4</td>\n",
       "    </tr>\n",
       "    <tr>\n",
       "      <th>3</th>\n",
       "      <td>4</td>\n",
       "      <td>123-19-1176</td>\n",
       "      <td>A</td>\n",
       "      <td>Yangon</td>\n",
       "      <td>Member</td>\n",
       "      <td>Male</td>\n",
       "      <td>Health and beauty</td>\n",
       "      <td>58.22</td>\n",
       "      <td>8</td>\n",
       "      <td>23.2880</td>\n",
       "      <td>489.0480</td>\n",
       "      <td>1/27/2019</td>\n",
       "      <td>20:33</td>\n",
       "      <td>Ewallet</td>\n",
       "      <td>465.76</td>\n",
       "      <td>4.761905</td>\n",
       "      <td>23.2880</td>\n",
       "      <td>8.4</td>\n",
       "    </tr>\n",
       "    <tr>\n",
       "      <th>4</th>\n",
       "      <td>5</td>\n",
       "      <td>373-73-7910</td>\n",
       "      <td>A</td>\n",
       "      <td>Yangon</td>\n",
       "      <td>Normal</td>\n",
       "      <td>Male</td>\n",
       "      <td>Sports and travel</td>\n",
       "      <td>86.31</td>\n",
       "      <td>7</td>\n",
       "      <td>30.2085</td>\n",
       "      <td>634.3785</td>\n",
       "      <td>2/8/2019</td>\n",
       "      <td>10:37</td>\n",
       "      <td>Ewallet</td>\n",
       "      <td>604.17</td>\n",
       "      <td>4.761905</td>\n",
       "      <td>30.2085</td>\n",
       "      <td>5.3</td>\n",
       "    </tr>\n",
       "    <tr>\n",
       "      <th>...</th>\n",
       "      <td>...</td>\n",
       "      <td>...</td>\n",
       "      <td>...</td>\n",
       "      <td>...</td>\n",
       "      <td>...</td>\n",
       "      <td>...</td>\n",
       "      <td>...</td>\n",
       "      <td>...</td>\n",
       "      <td>...</td>\n",
       "      <td>...</td>\n",
       "      <td>...</td>\n",
       "      <td>...</td>\n",
       "      <td>...</td>\n",
       "      <td>...</td>\n",
       "      <td>...</td>\n",
       "      <td>...</td>\n",
       "      <td>...</td>\n",
       "      <td>...</td>\n",
       "    </tr>\n",
       "    <tr>\n",
       "      <th>995</th>\n",
       "      <td>996</td>\n",
       "      <td>233-67-5758</td>\n",
       "      <td>C</td>\n",
       "      <td>Naypyitaw</td>\n",
       "      <td>Normal</td>\n",
       "      <td>Male</td>\n",
       "      <td>Health and beauty</td>\n",
       "      <td>40.35</td>\n",
       "      <td>1</td>\n",
       "      <td>2.0175</td>\n",
       "      <td>42.3675</td>\n",
       "      <td>1/29/2019</td>\n",
       "      <td>13:46</td>\n",
       "      <td>Ewallet</td>\n",
       "      <td>40.35</td>\n",
       "      <td>4.761905</td>\n",
       "      <td>2.0175</td>\n",
       "      <td>6.2</td>\n",
       "    </tr>\n",
       "    <tr>\n",
       "      <th>996</th>\n",
       "      <td>997</td>\n",
       "      <td>303-96-2227</td>\n",
       "      <td>B</td>\n",
       "      <td>Mandalay</td>\n",
       "      <td>Normal</td>\n",
       "      <td>Female</td>\n",
       "      <td>Home and lifestyle</td>\n",
       "      <td>97.38</td>\n",
       "      <td>10</td>\n",
       "      <td>48.6900</td>\n",
       "      <td>1022.4900</td>\n",
       "      <td>3/2/2019</td>\n",
       "      <td>17:16</td>\n",
       "      <td>Ewallet</td>\n",
       "      <td>973.80</td>\n",
       "      <td>4.761905</td>\n",
       "      <td>48.6900</td>\n",
       "      <td>4.4</td>\n",
       "    </tr>\n",
       "    <tr>\n",
       "      <th>997</th>\n",
       "      <td>998</td>\n",
       "      <td>727-02-1313</td>\n",
       "      <td>A</td>\n",
       "      <td>Yangon</td>\n",
       "      <td>Member</td>\n",
       "      <td>Male</td>\n",
       "      <td>Food and beverages</td>\n",
       "      <td>31.84</td>\n",
       "      <td>1</td>\n",
       "      <td>1.5920</td>\n",
       "      <td>33.4320</td>\n",
       "      <td>2/9/2019</td>\n",
       "      <td>13:22</td>\n",
       "      <td>Cash</td>\n",
       "      <td>31.84</td>\n",
       "      <td>4.761905</td>\n",
       "      <td>1.5920</td>\n",
       "      <td>7.7</td>\n",
       "    </tr>\n",
       "    <tr>\n",
       "      <th>998</th>\n",
       "      <td>999</td>\n",
       "      <td>347-56-2442</td>\n",
       "      <td>A</td>\n",
       "      <td>Yangon</td>\n",
       "      <td>Normal</td>\n",
       "      <td>Male</td>\n",
       "      <td>Home and lifestyle</td>\n",
       "      <td>65.82</td>\n",
       "      <td>1</td>\n",
       "      <td>3.2910</td>\n",
       "      <td>69.1110</td>\n",
       "      <td>2/22/2019</td>\n",
       "      <td>15:33</td>\n",
       "      <td>Cash</td>\n",
       "      <td>65.82</td>\n",
       "      <td>4.761905</td>\n",
       "      <td>3.2910</td>\n",
       "      <td>4.1</td>\n",
       "    </tr>\n",
       "    <tr>\n",
       "      <th>999</th>\n",
       "      <td>1000</td>\n",
       "      <td>849-09-3807</td>\n",
       "      <td>A</td>\n",
       "      <td>Yangon</td>\n",
       "      <td>Member</td>\n",
       "      <td>Female</td>\n",
       "      <td>Fashion accessories</td>\n",
       "      <td>88.34</td>\n",
       "      <td>7</td>\n",
       "      <td>30.9190</td>\n",
       "      <td>649.2990</td>\n",
       "      <td>2/18/2019</td>\n",
       "      <td>13:28</td>\n",
       "      <td>Cash</td>\n",
       "      <td>618.38</td>\n",
       "      <td>4.761905</td>\n",
       "      <td>30.9190</td>\n",
       "      <td>6.6</td>\n",
       "    </tr>\n",
       "  </tbody>\n",
       "</table>\n",
       "<p>1000 rows × 18 columns</p>\n",
       "</div>"
      ],
      "text/plain": [
       "       No    InvoiceID Branch       City Customertype  Gender  \\\n",
       "0       1  750-67-8428      A     Yangon       Member  Female   \n",
       "1       2  226-31-3081      C  Naypyitaw       Normal  Female   \n",
       "2       3  631-41-3108      A     Yangon       Normal    Male   \n",
       "3       4  123-19-1176      A     Yangon       Member    Male   \n",
       "4       5  373-73-7910      A     Yangon       Normal    Male   \n",
       "..    ...          ...    ...        ...          ...     ...   \n",
       "995   996  233-67-5758      C  Naypyitaw       Normal    Male   \n",
       "996   997  303-96-2227      B   Mandalay       Normal  Female   \n",
       "997   998  727-02-1313      A     Yangon       Member    Male   \n",
       "998   999  347-56-2442      A     Yangon       Normal    Male   \n",
       "999  1000  849-09-3807      A     Yangon       Member  Female   \n",
       "\n",
       "                Productline  Unitprice  Quantity      Tax      Total  \\\n",
       "0         Health and beauty      74.69         7  26.1415   548.9715   \n",
       "1    Electronic accessories      15.28         5   3.8200    80.2200   \n",
       "2        Home and lifestyle      46.33         7  16.2155   340.5255   \n",
       "3         Health and beauty      58.22         8  23.2880   489.0480   \n",
       "4         Sports and travel      86.31         7  30.2085   634.3785   \n",
       "..                      ...        ...       ...      ...        ...   \n",
       "995       Health and beauty      40.35         1   2.0175    42.3675   \n",
       "996      Home and lifestyle      97.38        10  48.6900  1022.4900   \n",
       "997      Food and beverages      31.84         1   1.5920    33.4320   \n",
       "998      Home and lifestyle      65.82         1   3.2910    69.1110   \n",
       "999     Fashion accessories      88.34         7  30.9190   649.2990   \n",
       "\n",
       "          Date   Time      Payment    cogs  gross_margin_percentage  \\\n",
       "0     1/5/2019  13:08      Ewallet  522.83                 4.761905   \n",
       "1     3/8/2019  10:29         Cash   76.40                 4.761905   \n",
       "2     3/3/2019  13:23  Credit card  324.31                 4.761905   \n",
       "3    1/27/2019  20:33      Ewallet  465.76                 4.761905   \n",
       "4     2/8/2019  10:37      Ewallet  604.17                 4.761905   \n",
       "..         ...    ...          ...     ...                      ...   \n",
       "995  1/29/2019  13:46      Ewallet   40.35                 4.761905   \n",
       "996   3/2/2019  17:16      Ewallet  973.80                 4.761905   \n",
       "997   2/9/2019  13:22         Cash   31.84                 4.761905   \n",
       "998  2/22/2019  15:33         Cash   65.82                 4.761905   \n",
       "999  2/18/2019  13:28         Cash  618.38                 4.761905   \n",
       "\n",
       "     gross_iincome  Rating  \n",
       "0          26.1415     9.1  \n",
       "1           3.8200     9.6  \n",
       "2          16.2155     7.4  \n",
       "3          23.2880     8.4  \n",
       "4          30.2085     5.3  \n",
       "..             ...     ...  \n",
       "995         2.0175     6.2  \n",
       "996        48.6900     4.4  \n",
       "997         1.5920     7.7  \n",
       "998         3.2910     4.1  \n",
       "999        30.9190     6.6  \n",
       "\n",
       "[1000 rows x 18 columns]"
      ]
     },
     "execution_count": 4,
     "metadata": {},
     "output_type": "execute_result"
    }
   ],
   "source": [
    "data"
   ]
  },
  {
   "cell_type": "code",
   "execution_count": 10,
   "id": "bfd9b384-75fc-47f4-a4a9-59fbd8e902a3",
   "metadata": {},
   "outputs": [],
   "source": [
    "mQ=uprice=data.loc[0:1000,\"Unitprice\"]"
   ]
  },
  {
   "cell_type": "code",
   "execution_count": 11,
   "id": "9fac0197-27b8-45cd-8492-9d8921e8181f",
   "metadata": {},
   "outputs": [
    {
     "data": {
      "text/plain": [
       "0      74.69\n",
       "1      15.28\n",
       "2      46.33\n",
       "3      58.22\n",
       "4      86.31\n",
       "       ...  \n",
       "995    40.35\n",
       "996    97.38\n",
       "997    31.84\n",
       "998    65.82\n",
       "999    88.34\n",
       "Name: Unitprice, Length: 1000, dtype: float64"
      ]
     },
     "execution_count": 11,
     "metadata": {},
     "output_type": "execute_result"
    }
   ],
   "source": [
    "uprice"
   ]
  },
  {
   "cell_type": "code",
   "execution_count": 12,
   "id": "f037ebdc-0d39-407f-b731-38dffc833470",
   "metadata": {},
   "outputs": [
    {
     "data": {
      "text/plain": [
       "99.96"
      ]
     },
     "execution_count": 12,
     "metadata": {},
     "output_type": "execute_result"
    }
   ],
   "source": [
    "max(mQ)"
   ]
  },
  {
   "cell_type": "code",
   "execution_count": 13,
   "id": "114866b3-c493-4df7-b1c0-f14c92e5736d",
   "metadata": {},
   "outputs": [
    {
     "data": {
      "text/plain": [
       "10.08"
      ]
     },
     "execution_count": 13,
     "metadata": {},
     "output_type": "execute_result"
    }
   ],
   "source": [
    "min(mQ)"
   ]
  },
  {
   "cell_type": "code",
   "execution_count": 14,
   "id": "2f0b50fa-4194-4ebf-8346-1da538d897b5",
   "metadata": {},
   "outputs": [
    {
     "data": {
      "text/plain": [
       "55.67212999999998"
      ]
     },
     "execution_count": 14,
     "metadata": {},
     "output_type": "execute_result"
    }
   ],
   "source": [
    "sum(mQ)/len(mQ)"
   ]
  },
  {
   "cell_type": "code",
   "execution_count": 17,
   "id": "1e758745-0259-415e-9cbb-755acc5c2077",
   "metadata": {},
   "outputs": [],
   "source": [
    "gh=data.loc[0:1000,\"Quantity\"]"
   ]
  },
  {
   "cell_type": "code",
   "execution_count": 18,
   "id": "79d98bbe-b331-4d85-beea-a6b92f1b3648",
   "metadata": {},
   "outputs": [
    {
     "data": {
      "text/plain": [
       "0       7\n",
       "1       5\n",
       "2       7\n",
       "3       8\n",
       "4       7\n",
       "       ..\n",
       "995     1\n",
       "996    10\n",
       "997     1\n",
       "998     1\n",
       "999     7\n",
       "Name: Quantity, Length: 1000, dtype: int64"
      ]
     },
     "execution_count": 18,
     "metadata": {},
     "output_type": "execute_result"
    }
   ],
   "source": [
    "gh"
   ]
  },
  {
   "cell_type": "code",
   "execution_count": 19,
   "id": "567839e2-a193-426b-acd6-911cf30e70bc",
   "metadata": {},
   "outputs": [
    {
     "data": {
      "text/plain": [
       "10"
      ]
     },
     "execution_count": 19,
     "metadata": {},
     "output_type": "execute_result"
    }
   ],
   "source": [
    "max(gh)"
   ]
  },
  {
   "cell_type": "code",
   "execution_count": 20,
   "id": "8c0620bf-61b8-4ad5-87a8-edced86f62d8",
   "metadata": {},
   "outputs": [
    {
     "data": {
      "text/plain": [
       "1"
      ]
     },
     "execution_count": 20,
     "metadata": {},
     "output_type": "execute_result"
    }
   ],
   "source": [
    "min(gh)"
   ]
  },
  {
   "cell_type": "code",
   "execution_count": 21,
   "id": "cb8b15fd-bb1e-4f99-842d-fcbcd9a9d517",
   "metadata": {},
   "outputs": [
    {
     "data": {
      "text/plain": [
       "5.51"
      ]
     },
     "execution_count": 21,
     "metadata": {},
     "output_type": "execute_result"
    }
   ],
   "source": [
    "sum(gh)/len(gh)"
   ]
  },
  {
   "cell_type": "code",
   "execution_count": 26,
   "id": "55edf52d-0719-4f73-a56b-df05e1c28de7",
   "metadata": {},
   "outputs": [],
   "source": [
    "pl=data.loc[0:1000,\"Productline\"]"
   ]
  },
  {
   "cell_type": "code",
   "execution_count": 27,
   "id": "73ee2b0b-6491-46d4-9e41-041bb251888d",
   "metadata": {},
   "outputs": [
    {
     "data": {
      "text/plain": [
       "0           Health and beauty\n",
       "1      Electronic accessories\n",
       "2          Home and lifestyle\n",
       "3           Health and beauty\n",
       "4           Sports and travel\n",
       "                ...          \n",
       "995         Health and beauty\n",
       "996        Home and lifestyle\n",
       "997        Food and beverages\n",
       "998        Home and lifestyle\n",
       "999       Fashion accessories\n",
       "Name: Productline, Length: 1000, dtype: object"
      ]
     },
     "execution_count": 27,
     "metadata": {},
     "output_type": "execute_result"
    }
   ],
   "source": [
    "pl"
   ]
  },
  {
   "cell_type": "code",
   "execution_count": 40,
   "id": "0d64fb5d-188a-4380-8e1b-5b12cae89f5a",
   "metadata": {},
   "outputs": [
    {
     "data": {
      "text/plain": [
       "10"
      ]
     },
     "execution_count": 40,
     "metadata": {},
     "output_type": "execute_result"
    }
   ],
   "source": [
    "new_data=[]\n",
    "for x in data.index:\n",
    "    if data.loc[x,\"Productline\"]==\"Health and beauty\" :\n",
    "        new_data.append(data.loc[x,\"Quantity\"])\n",
    "max(new_data)\n",
    "        "
   ]
  },
  {
   "cell_type": "code",
   "execution_count": 41,
   "id": "09a614e3-3689-46c9-8d5f-1e6a62178e23",
   "metadata": {},
   "outputs": [
    {
     "data": {
      "text/plain": [
       "[7,\n",
       " 8,\n",
       " 2,\n",
       " 10,\n",
       " 7,\n",
       " 3,\n",
       " 9,\n",
       " 2,\n",
       " 8,\n",
       " 2,\n",
       " 9,\n",
       " 8,\n",
       " 4,\n",
       " 10,\n",
       " 2,\n",
       " 1,\n",
       " 5,\n",
       " 6,\n",
       " 6,\n",
       " 9,\n",
       " 1,\n",
       " 10,\n",
       " 7,\n",
       " 3,\n",
       " 6,\n",
       " 10,\n",
       " 10,\n",
       " 6,\n",
       " 4,\n",
       " 8,\n",
       " 9,\n",
       " 8,\n",
       " 5,\n",
       " 3,\n",
       " 8,\n",
       " 2,\n",
       " 4,\n",
       " 10,\n",
       " 9,\n",
       " 9,\n",
       " 9,\n",
       " 10,\n",
       " 5,\n",
       " 2,\n",
       " 2,\n",
       " 6,\n",
       " 6,\n",
       " 4,\n",
       " 5,\n",
       " 10,\n",
       " 1,\n",
       " 9,\n",
       " 7,\n",
       " 4,\n",
       " 1,\n",
       " 6,\n",
       " 4,\n",
       " 7,\n",
       " 7,\n",
       " 10,\n",
       " 10,\n",
       " 1,\n",
       " 5,\n",
       " 6,\n",
       " 10,\n",
       " 5,\n",
       " 1,\n",
       " 1,\n",
       " 2,\n",
       " 7,\n",
       " 1,\n",
       " 1,\n",
       " 1,\n",
       " 7,\n",
       " 8,\n",
       " 3,\n",
       " 8,\n",
       " 5,\n",
       " 5,\n",
       " 2,\n",
       " 6,\n",
       " 1,\n",
       " 9,\n",
       " 4,\n",
       " 2,\n",
       " 4,\n",
       " 4,\n",
       " 5,\n",
       " 6,\n",
       " 3,\n",
       " 10,\n",
       " 10,\n",
       " 7,\n",
       " 6,\n",
       " 6,\n",
       " 4,\n",
       " 6,\n",
       " 3,\n",
       " 8,\n",
       " 10,\n",
       " 10,\n",
       " 9,\n",
       " 7,\n",
       " 9,\n",
       " 5,\n",
       " 8,\n",
       " 3,\n",
       " 10,\n",
       " 7,\n",
       " 5,\n",
       " 4,\n",
       " 7,\n",
       " 7,\n",
       " 8,\n",
       " 5,\n",
       " 5,\n",
       " 3,\n",
       " 4,\n",
       " 1,\n",
       " 1,\n",
       " 8,\n",
       " 4,\n",
       " 3,\n",
       " 9,\n",
       " 4,\n",
       " 1,\n",
       " 7,\n",
       " 5,\n",
       " 6,\n",
       " 3,\n",
       " 2,\n",
       " 5,\n",
       " 8,\n",
       " 7,\n",
       " 5,\n",
       " 2,\n",
       " 10,\n",
       " 5,\n",
       " 9,\n",
       " 7,\n",
       " 7,\n",
       " 3,\n",
       " 5,\n",
       " 7,\n",
       " 3,\n",
       " 3,\n",
       " 4,\n",
       " 7,\n",
       " 2,\n",
       " 8,\n",
       " 8,\n",
       " 1]"
      ]
     },
     "execution_count": 41,
     "metadata": {},
     "output_type": "execute_result"
    }
   ],
   "source": [
    "new_data"
   ]
  },
  {
   "cell_type": "code",
   "execution_count": 43,
   "id": "bbae23cd-fb7a-4269-9bc4-32d81d8b66c5",
   "metadata": {},
   "outputs": [
    {
     "data": {
      "text/plain": [
       "0      Female\n",
       "1      Female\n",
       "2        Male\n",
       "3        Male\n",
       "4        Male\n",
       "        ...  \n",
       "995      Male\n",
       "996    Female\n",
       "997      Male\n",
       "998      Male\n",
       "999    Female\n",
       "Name: Gender, Length: 1000, dtype: object"
      ]
     },
     "execution_count": 43,
     "metadata": {},
     "output_type": "execute_result"
    }
   ],
   "source": [
    "data.Gender"
   ]
  },
  {
   "cell_type": "code",
   "execution_count": 46,
   "id": "f8fea2e6-9457-4a33-8b5b-908cc9097d87",
   "metadata": {},
   "outputs": [
    {
     "data": {
      "text/plain": [
       "1859"
      ]
     },
     "execution_count": 46,
     "metadata": {},
     "output_type": "execute_result"
    }
   ],
   "source": [
    "new_data=[]\n",
    "for x in data.index:\n",
    "    if data.loc[x,\"City\"]==\"Yangon\":\n",
    "        new_data.append(data.loc[x,\"Quantity\"])\n",
    "sum(new_data)"
   ]
  },
  {
   "cell_type": "code",
   "execution_count": 48,
   "id": "7edca901-e2b8-4cae-9578-706a2e382923",
   "metadata": {},
   "outputs": [
    {
     "data": {
      "text/plain": [
       "1820"
      ]
     },
     "execution_count": 48,
     "metadata": {},
     "output_type": "execute_result"
    }
   ],
   "source": [
    "new_data=[]\n",
    "for x in data.index:\n",
    "    if data.loc[x,\"City\"]==\"Mandalay\":\n",
    "        new_data.append(data.loc[x,\"Quantity\"])\n",
    "sum(new_data)"
   ]
  },
  {
   "cell_type": "code",
   "execution_count": null,
   "id": "e12e3ec2-7b19-4c7f-90f1-f1aeeb20b9b0",
   "metadata": {},
   "outputs": [],
   "source": []
  }
 ],
 "metadata": {
  "kernelspec": {
   "display_name": "Python 3",
   "language": "python",
   "name": "python3"
  },
  "language_info": {
   "codemirror_mode": {
    "name": "ipython",
    "version": 3
   },
   "file_extension": ".py",
   "mimetype": "text/x-python",
   "name": "python",
   "nbconvert_exporter": "python",
   "pygments_lexer": "ipython3",
   "version": "3.8.8"
  }
 },
 "nbformat": 4,
 "nbformat_minor": 5
}
