{
 "cells": [
  {
   "cell_type": "code",
   "execution_count": 1,
   "id": "40c8590a-424a-4c21-a386-2b48f9ad270f",
   "metadata": {},
   "outputs": [
    {
     "name": "stdin",
     "output_type": "stream",
     "text": [
      "ENTER THE STANDARD WORKING (in hour)= 15\n",
      "ENTER THE time taken to complete the work (in hour)= 12\n",
      "ENTER THE rate= 2622\n"
     ]
    },
    {
     "name": "stdout",
     "output_type": "stream",
     "text": [
      "35397.0\n"
     ]
    }
   ],
   "source": [
    "x=int(input(\"ENTER THE STANDARD WORKING (in hour)=\"))\n",
    "y=int(input(\"ENTER THE time taken to complete the work (in hour)=\"))\n",
    "z=int(input(\"ENTER THE rate=\"))\n",
    "earnings=(y*z)+(0.50*(x-y))*z\n",
    "print (earnings)"
   ]
  },
  {
   "cell_type": "code",
   "execution_count": 2,
   "id": "7506c0d9-2fde-4845-87ca-38db6974cee9",
   "metadata": {},
   "outputs": [],
   "source": [
    "import pandas as exl"
   ]
  },
  {
   "cell_type": "code",
   "execution_count": 7,
   "id": "b3315ff5-c579-4107-a8c3-5fc9fd6c6f6c",
   "metadata": {},
   "outputs": [],
   "source": [
    "df=exl.read_excel(\"Book123.xlsx\")"
   ]
  },
  {
   "cell_type": "code",
   "execution_count": 4,
   "id": "9f647b82-f605-44ac-aeaf-90be4e79abcb",
   "metadata": {},
   "outputs": [
    {
     "data": {
      "text/html": [
       "<div>\n",
       "<style scoped>\n",
       "    .dataframe tbody tr th:only-of-type {\n",
       "        vertical-align: middle;\n",
       "    }\n",
       "\n",
       "    .dataframe tbody tr th {\n",
       "        vertical-align: top;\n",
       "    }\n",
       "\n",
       "    .dataframe thead th {\n",
       "        text-align: right;\n",
       "    }\n",
       "</style>\n",
       "<table border=\"1\" class=\"dataframe\">\n",
       "  <thead>\n",
       "    <tr style=\"text-align: right;\">\n",
       "      <th></th>\n",
       "      <th>name</th>\n",
       "      <th>x</th>\n",
       "      <th>y</th>\n",
       "      <th>z</th>\n",
       "    </tr>\n",
       "  </thead>\n",
       "  <tbody>\n",
       "    <tr>\n",
       "      <th>0</th>\n",
       "      <td>albin</td>\n",
       "      <td>45</td>\n",
       "      <td>67</td>\n",
       "      <td>600</td>\n",
       "    </tr>\n",
       "  </tbody>\n",
       "</table>\n",
       "</div>"
      ],
      "text/plain": [
       "    name   x   y    z\n",
       "0  albin  45  67  600"
      ]
     },
     "execution_count": 4,
     "metadata": {},
     "output_type": "execute_result"
    }
   ],
   "source": [
    "df"
   ]
  },
  {
   "cell_type": "code",
   "execution_count": 5,
   "id": "fb885977-278a-4a53-bfbf-fc879df0ddb9",
   "metadata": {},
   "outputs": [
    {
     "name": "stdout",
     "output_type": "stream",
     "text": [
      "33600.0\n"
     ]
    }
   ],
   "source": [
    "x=df.loc[0,\"x\"]\n",
    "y=df.loc[0,\"y\"]\n",
    "z=df.loc[0,\"z\"]\n",
    "earnings=(y*z)+(0.50*(x-y))*z\n",
    "print (earnings)"
   ]
  },
  {
   "cell_type": "code",
   "execution_count": 8,
   "id": "b96f0357-0fc5-412b-a6a1-a5b37f2725d1",
   "metadata": {},
   "outputs": [
    {
     "data": {
      "text/html": [
       "<div>\n",
       "<style scoped>\n",
       "    .dataframe tbody tr th:only-of-type {\n",
       "        vertical-align: middle;\n",
       "    }\n",
       "\n",
       "    .dataframe tbody tr th {\n",
       "        vertical-align: top;\n",
       "    }\n",
       "\n",
       "    .dataframe thead th {\n",
       "        text-align: right;\n",
       "    }\n",
       "</style>\n",
       "<table border=\"1\" class=\"dataframe\">\n",
       "  <thead>\n",
       "    <tr style=\"text-align: right;\">\n",
       "      <th></th>\n",
       "      <th>name</th>\n",
       "      <th>x</th>\n",
       "      <th>y</th>\n",
       "      <th>z</th>\n",
       "    </tr>\n",
       "  </thead>\n",
       "  <tbody>\n",
       "    <tr>\n",
       "      <th>0</th>\n",
       "      <td>albin</td>\n",
       "      <td>45</td>\n",
       "      <td>67</td>\n",
       "      <td>600.000000</td>\n",
       "    </tr>\n",
       "    <tr>\n",
       "      <th>1</th>\n",
       "      <td>dhanya</td>\n",
       "      <td>25</td>\n",
       "      <td>35</td>\n",
       "      <td>500.000000</td>\n",
       "    </tr>\n",
       "    <tr>\n",
       "      <th>2</th>\n",
       "      <td>aswin</td>\n",
       "      <td>23</td>\n",
       "      <td>45</td>\n",
       "      <td>920.000000</td>\n",
       "    </tr>\n",
       "    <tr>\n",
       "      <th>3</th>\n",
       "      <td>dhanya2</td>\n",
       "      <td>9</td>\n",
       "      <td>27</td>\n",
       "      <td>993.333333</td>\n",
       "    </tr>\n",
       "  </tbody>\n",
       "</table>\n",
       "</div>"
      ],
      "text/plain": [
       "      name   x   y           z\n",
       "0    albin  45  67  600.000000\n",
       "1   dhanya  25  35  500.000000\n",
       "2    aswin  23  45  920.000000\n",
       "3  dhanya2   9  27  993.333333"
      ]
     },
     "execution_count": 8,
     "metadata": {},
     "output_type": "execute_result"
    }
   ],
   "source": [
    "df"
   ]
  },
  {
   "cell_type": "code",
   "execution_count": 14,
   "id": "5e27550d-9198-4808-aa44-55c763543ccb",
   "metadata": {},
   "outputs": [
    {
     "name": "stdout",
     "output_type": "stream",
     "text": [
      "albin\n",
      "33600.0\n",
      "dhanya\n",
      "15000.0\n",
      "aswin\n",
      "31280.0\n",
      "dhanya2\n",
      "17879.999999999996\n"
     ]
    }
   ],
   "source": [
    "for q in df.index:\n",
    "    x=df.loc[q,\"x\"]\n",
    "    y=df.loc[q,\"y\"]\n",
    "    z=df.loc[q,\"z\"]\n",
    "    earnings=(y*z)+(0.50*(x-y))*z\n",
    "    print(df.loc[q,\"name\"])\n",
    "    print (earnings)   "
   ]
  },
  {
   "cell_type": "code",
   "execution_count": null,
   "id": "84632451-70fa-4371-8147-a433d14e7a4c",
   "metadata": {},
   "outputs": [],
   "source": []
  }
 ],
 "metadata": {
  "kernelspec": {
   "display_name": "Python 3",
   "language": "python",
   "name": "python3"
  },
  "language_info": {
   "codemirror_mode": {
    "name": "ipython",
    "version": 3
   },
   "file_extension": ".py",
   "mimetype": "text/x-python",
   "name": "python",
   "nbconvert_exporter": "python",
   "pygments_lexer": "ipython3",
   "version": "3.8.8"
  }
 },
 "nbformat": 4,
 "nbformat_minor": 5
}
